{
 "cells": [
  {
   "cell_type": "markdown",
   "metadata": {},
   "source": [
    "what is function in python?\n",
    "\n",
    "in python function is agroup of related statements which performs a specific tasks\n",
    "\n",
    "It is a block of code it runs only when it is called.\n",
    "\n",
    "Function is defined using def keyword"
   ]
  },
  {
   "cell_type": "code",
   "execution_count": 2,
   "metadata": {},
   "outputs": [
    {
     "name": "stdout",
     "output_type": "stream",
     "text": [
      "Hello I am Yogesh\n"
     ]
    }
   ],
   "source": [
    "def my_function():\n",
    "    print(\"Hello I am Yogesh\")\n",
    "    \n",
    "my_function()"
   ]
  },
  {
   "cell_type": "markdown",
   "metadata": {},
   "source": [
    "Parameters (arguments) through which we pass the values to a fuction"
   ]
  },
  {
   "cell_type": "code",
   "execution_count": 8,
   "metadata": {},
   "outputs": [
    {
     "name": "stdout",
     "output_type": "stream",
     "text": [
      "Hello, Yogesh Good morning\n"
     ]
    }
   ],
   "source": [
    "def greet(name):\n",
    "    print(\"Hello, \"+ name + \" Good morning\")\n",
    "    \n",
    "greet(\"Yogesh\")"
   ]
  },
  {
   "cell_type": "markdown",
   "metadata": {},
   "source": [
    "Taking two arguments \n"
   ]
  },
  {
   "cell_type": "code",
   "execution_count": 9,
   "metadata": {},
   "outputs": [
    {
     "name": "stdout",
     "output_type": "stream",
     "text": [
      "Yogesh Khairnar\n"
     ]
    }
   ],
   "source": [
    "def my_function(fname,lname):\n",
    "    print(fname,lname)\n",
    "    \n",
    "my_function(\"Yogesh\",\"Khairnar\")"
   ]
  },
  {
   "cell_type": "markdown",
   "metadata": {},
   "source": [
    "IF dont known number of argments\n"
   ]
  },
  {
   "cell_type": "code",
   "execution_count": 13,
   "metadata": {},
   "outputs": [
    {
     "name": "stdout",
     "output_type": "stream",
     "text": [
      "hello hari\n"
     ]
    }
   ],
   "source": [
    "def childrens(*kids):\n",
    "    print(\"hello \"+ kids[2])\n",
    "    \n",
    "childrens(\"trisha\",\"ayush\",\"hari\")"
   ]
  },
  {
   "cell_type": "markdown",
   "metadata": {},
   "source": [
    "Default Parameter value\n",
    "\n",
    "if we call the function without the argument it takes default value"
   ]
  },
  {
   "cell_type": "code",
   "execution_count": 15,
   "metadata": {},
   "outputs": [
    {
     "name": "stdout",
     "output_type": "stream",
     "text": [
      "I an from India\n",
      "I an from America\n",
      "I an from Germany\n",
      "I an from Japan\n"
     ]
    }
   ],
   "source": [
    "def my_function(country = \"India\"):\n",
    "    print(\"I an from \"+country)\n",
    "    \n",
    "my_function()\n",
    "my_function(\"America\")\n",
    "my_function(\"Germany\")\n",
    "my_function(\"Japan\")\n"
   ]
  },
  {
   "cell_type": "markdown",
   "metadata": {},
   "source": [
    " return function "
   ]
  },
  {
   "cell_type": "code",
   "execution_count": 16,
   "metadata": {},
   "outputs": [
    {
     "name": "stdout",
     "output_type": "stream",
     "text": [
      "the sum is: 30\n"
     ]
    }
   ],
   "source": [
    "def sum():\n",
    "    a=10\n",
    "    b=20\n",
    "    c=a+b\n",
    "    return c\n",
    "\n",
    "print(\"the sum is:\",sum())"
   ]
  },
  {
   "cell_type": "markdown",
   "metadata": {},
   "source": [
    "Taking input in function \n"
   ]
  },
  {
   "cell_type": "code",
   "execution_count": 20,
   "metadata": {},
   "outputs": [
    {
     "name": "stdout",
     "output_type": "stream",
     "text": [
      "enter a: 5\n",
      "enter b: 6\n",
      "the sum is: 11\n"
     ]
    },
    {
     "data": {
      "text/plain": [
       "11"
      ]
     },
     "execution_count": 20,
     "metadata": {},
     "output_type": "execute_result"
    }
   ],
   "source": [
    "def sum(a,b):\n",
    "    return(a+b);\n",
    "\n",
    "a = int(input(\"enter a: \"))\n",
    "b = int(input(\"enter b: \"))\n",
    "\n",
    "print(\"the sum is:\",sum(a,b))\n",
    "sum(a,b)"
   ]
  },
  {
   "cell_type": "markdown",
   "metadata": {},
   "source": [
    "\n",
    "PASSING a List as an argument"
   ]
  },
  {
   "cell_type": "code",
   "execution_count": 1,
   "metadata": {},
   "outputs": [
    {
     "name": "stdout",
     "output_type": "stream",
     "text": [
      "mangoes\n",
      "apples\n",
      "grapes\n",
      "bananas\n"
     ]
    }
   ],
   "source": [
    "def my_function(food):\n",
    "    for x in food:\n",
    "        print(x)\n",
    "fruits = [\"mangoes\",\"apples\",\"grapes\",\"bananas\"]\n",
    "\n",
    "my_function(fruits)"
   ]
  },
  {
   "cell_type": "code",
   "execution_count": 4,
   "metadata": {},
   "outputs": [
    {
     "name": "stdout",
     "output_type": "stream",
     "text": [
      "15\n",
      "20\n"
     ]
    }
   ],
   "source": [
    "def my_function(x):\n",
    "    return 5*x\n",
    "\n",
    "print(my_function(3))\n",
    "print(my_function(4))"
   ]
  },
  {
   "cell_type": "code",
   "execution_count": null,
   "metadata": {},
   "outputs": [],
   "source": []
  }
 ],
 "metadata": {
  "kernelspec": {
   "display_name": "Python 3",
   "language": "python",
   "name": "python3"
  },
  "language_info": {
   "codemirror_mode": {
    "name": "ipython",
    "version": 3
   },
   "file_extension": ".py",
   "mimetype": "text/x-python",
   "name": "python",
   "nbconvert_exporter": "python",
   "pygments_lexer": "ipython3",
   "version": "3.8.5"
  }
 },
 "nbformat": 4,
 "nbformat_minor": 4
}
