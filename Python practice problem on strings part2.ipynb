{
 "cells": [
  {
   "cell_type": "markdown",
   "metadata": {},
   "source": [
    "1-Program to remove spaces from a string"
   ]
  },
  {
   "cell_type": "code",
   "execution_count": 9,
   "metadata": {},
   "outputs": [
    {
     "ename": "SyntaxError",
     "evalue": "invalid syntax (<ipython-input-9-af435ec2dcbe>, line 2)",
     "output_type": "error",
     "traceback": [
      "\u001b[1;36m  File \u001b[1;32m\"<ipython-input-9-af435ec2dcbe>\"\u001b[1;36m, line \u001b[1;32m2\u001b[0m\n\u001b[1;33m    x=str1.replace(\" \",\"\")\u001b[0m\n\u001b[1;37m    ^\u001b[0m\n\u001b[1;31mSyntaxError\u001b[0m\u001b[1;31m:\u001b[0m invalid syntax\n"
     ]
    }
   ],
   "source": [
    "str1=(input(\"enter a string with spaces: \")\n",
    "x=str1.replace(\" \",\"\")\n",
    "print(\"String after removing spaces\")\n",
    "print(x)\n",
    "\n",
    "\n"
   ]
  },
  {
   "cell_type": "code",
   "execution_count": 10,
   "metadata": {},
   "outputs": [
    {
     "name": "stdout",
     "output_type": "stream",
     "text": [
      "enter a string with spaces: y o g e s h\n",
      "string after removing spaces yogesh\n"
     ]
    }
   ],
   "source": [
    "str1 = (input(\"enter a string with spaces: \"))\n",
    "x = str1.replace(\" \",\"\")\n",
    "print(\"string after removing spaces\",x)"
   ]
  },
  {
   "cell_type": "markdown",
   "metadata": {},
   "source": [
    "2-Program to check weather the string is palindrome or not \n",
    "\n",
    "Palindrome strings means ex:(if \"madam\" is a string if we reverse it we shoulg get same string)"
   ]
  },
  {
   "cell_type": "code",
   "execution_count": null,
   "metadata": {},
   "outputs": [
    {
     "name": "stdout",
     "output_type": "stream",
     "text": [
      "Enter a string:madam\n",
      "String is palindrome\n",
      "Enter a string:yogesh\n",
      "String is not palindrome\n"
     ]
    }
   ],
   "source": [
    "while True:\n",
    "    str1 = input(\"Enter a string:\")\n",
    "\n",
    "    str2 = str1[-1::-1]\n",
    "\n",
    "    if str1==str2:\n",
    "        print(\"String is palindrome\")\n",
    "    else:\n",
    "        print(\"String is not palindrome\")"
   ]
  },
  {
   "cell_type": "markdown",
   "metadata": {},
   "source": [
    "3-Program to count the sum of digits in a string"
   ]
  },
  {
   "cell_type": "code",
   "execution_count": 3,
   "metadata": {},
   "outputs": [
    {
     "name": "stdout",
     "output_type": "stream",
     "text": [
      "Enter a string:yo3ge4h\n",
      "Original String: yo3ge4h\n",
      "Digits in string are 34\n",
      "Sum of digits is 7\n"
     ]
    }
   ],
   "source": [
    "s=input(\"Enter a string:\")\n",
    "sumd=0\n",
    "digit=\"\"\n",
    "\n",
    "for i in range(0,len(s)):\n",
    "    if(s[i].isdigit()):\n",
    "        digit=digit+s[i]\n",
    "        sumd=sumd+int(s[i])\n",
    "if sumd==0:\n",
    "    print(\"String does not contains numbers\")\n",
    "else:\n",
    "    print(\"Original String:\",s)\n",
    "    print(\"Digits in string are\",digit)\n",
    "    print(\"Sum of digits is\",sumd)"
   ]
  },
  {
   "cell_type": "markdown",
   "metadata": {},
   "source": [
    "4-Program to calculate the frequency of a character in a string"
   ]
  },
  {
   "cell_type": "code",
   "execution_count": 6,
   "metadata": {},
   "outputs": [
    {
     "name": "stdout",
     "output_type": "stream",
     "text": [
      "Enter a string:hii hellooo\n",
      "Enter character to check its frequency:o\n",
      "o occurs 3 times in hii hellooo\n"
     ]
    }
   ],
   "source": [
    "string=input(\"Enter a string:\")\n",
    "c=input(\"Enter character to check its frequency:\")\n",
    "count=0\n",
    "for i in string:\n",
    "    if i==c:\n",
    "        count=count+1\n",
    "print(c,\"occurs\",count,\"times in\",string)"
   ]
  },
  {
   "cell_type": "markdown",
   "metadata": {},
   "source": [
    "5-Program to calculate frequency of each character in a string"
   ]
  },
  {
   "cell_type": "code",
   "execution_count": 8,
   "metadata": {},
   "outputs": [
    {
     "name": "stdout",
     "output_type": "stream",
     "text": [
      "Enter a string: yooggeesh\n",
      "count of characters in yooggeesh is\n",
      "{'y': 1, 'o': 2, 'g': 2, 'e': 2, 's': 1, 'h': 1}\n"
     ]
    }
   ],
   "source": [
    "str1=input(\"Enter a string: \")\n",
    "freq={}\n",
    "\n",
    "for i in str1:\n",
    "    if i in freq:\n",
    "        freq[i]+=1\n",
    "    else:\n",
    "        freq[i]=1\n",
    "print(\"count of characters in\",str1,\"is\")\n",
    "print(str(freq))"
   ]
  },
  {
   "cell_type": "markdown",
   "metadata": {},
   "source": [
    "6-Program to find non-repeating characters in a string"
   ]
  },
  {
   "cell_type": "code",
   "execution_count": 11,
   "metadata": {},
   "outputs": [
    {
     "name": "stdout",
     "output_type": "stream",
     "text": [
      "Enter a string: yooggesh\n",
      "yesh"
     ]
    }
   ],
   "source": [
    "str1=input(\"Enter a string: \")\n",
    "for i in str1:\n",
    "    count=0\n",
    "    for j in str1:\n",
    "        if i==j:\n",
    "            count+=1\n",
    "        if count>1:\n",
    "            break\n",
    "    if count==1:\n",
    "        print(i,end='')"
   ]
  },
  {
   "cell_type": "markdown",
   "metadata": {},
   "source": [
    "7-Program to remove characters from strings expect alphabets"
   ]
  },
  {
   "cell_type": "code",
   "execution_count": 18,
   "metadata": {},
   "outputs": [
    {
     "name": "stdout",
     "output_type": "stream",
     "text": [
      "Enter a string: yo45ge@#sh\n",
      "Alphabets in string are yogesh\n"
     ]
    }
   ],
   "source": [
    "str1=input(\"Enter a string: \")\n",
    "str2= \"\"\n",
    "for i in str1:\n",
    "    if(ord(i)>=65 and ord(i)<=90) or (ord(i)>=97 and ord(i)<=122):\n",
    "        str2+=i\n",
    "print(\"Alphabets in string are \" + str(str2))"
   ]
  },
  {
   "cell_type": "markdown",
   "metadata": {},
   "source": [
    "7-Program to check if string is angram or not"
   ]
  },
  {
   "cell_type": "code",
   "execution_count": 19,
   "metadata": {},
   "outputs": [
    {
     "name": "stdout",
     "output_type": "stream",
     "text": [
      "Enter a first string: leaf\n",
      "Enter a second string: feal\n",
      "Strings are anagram\n"
     ]
    }
   ],
   "source": [
    "string1 = input(\"Enter a first string: \")\n",
    "string2 = input(\"Enter a second string: \")\n",
    "if len(string1)!=len(string2):\n",
    "    print(\"Strings are not anagram\")\n",
    "else:\n",
    "    string1=sorted(string1)\n",
    "    string2=sorted(string2)\n",
    "    if string1==string2:\n",
    "        print(\"Strings are anagram\")\n",
    "    else:\n",
    "        print(\"Strings are not anagram\")\n",
    "        "
   ]
  },
  {
   "cell_type": "markdown",
   "metadata": {},
   "source": [
    "8-Program to chech weather the string is palindrome or not"
   ]
  },
  {
   "cell_type": "code",
   "execution_count": 3,
   "metadata": {},
   "outputs": [
    {
     "name": "stdout",
     "output_type": "stream",
     "text": [
      "Enter the first string: madam\n",
      "Strings are palindrome\n"
     ]
    }
   ],
   "source": [
    "str1=input(\"Enter the first string: \")\n",
    "str2=str1[-1::-1]\n",
    "\n",
    "if str2==str1:\n",
    "    print(\"Strings are palindrome\")\n",
    "else:\n",
    "    print(\"Strings are not palindroe\")\n",
    "\n"
   ]
  },
  {
   "cell_type": "markdown",
   "metadata": {},
   "source": [
    "9-Program to count vowels in a string"
   ]
  },
  {
   "cell_type": "code",
   "execution_count": 10,
   "metadata": {},
   "outputs": [
    {
     "name": "stdout",
     "output_type": "stream",
     "text": [
      "Enter a string:Yogesh\n",
      "Number of vowels in Yogesh is 2\n"
     ]
    }
   ],
   "source": [
    "str1=input(\"Enter a string:\")\n",
    "str2=str1.lower()\n",
    "count=0\n",
    "for i in str2:\n",
    "    if i=='a' or i=='e' or i=='i' or i=='o' or i=='u':\n",
    "        count+=1\n",
    "        \n",
    "if count==0:\n",
    "    print(\"No vowels in string\")\n",
    "else:\n",
    "    print(\"Number of vowels in\",str1,\"is\",count)\n",
    "\n",
    "    "
   ]
  },
  {
   "cell_type": "code",
   "execution_count": null,
   "metadata": {},
   "outputs": [],
   "source": []
  }
 ],
 "metadata": {
  "kernelspec": {
   "display_name": "Python 3",
   "language": "python",
   "name": "python3"
  },
  "language_info": {
   "codemirror_mode": {
    "name": "ipython",
    "version": 3
   },
   "file_extension": ".py",
   "mimetype": "text/x-python",
   "name": "python",
   "nbconvert_exporter": "python",
   "pygments_lexer": "ipython3",
   "version": "3.8.5"
  }
 },
 "nbformat": 4,
 "nbformat_minor": 4
}
