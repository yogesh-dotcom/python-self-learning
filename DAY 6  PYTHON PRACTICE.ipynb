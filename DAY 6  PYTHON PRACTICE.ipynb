{
 "cells": [
  {
   "cell_type": "code",
   "execution_count": 1,
   "metadata": {},
   "outputs": [
    {
     "name": "stdout",
     "output_type": "stream",
     "text": [
      "x is smaller than 10\n"
     ]
    }
   ],
   "source": [
    "#python if , elif , else \n",
    "\n",
    "# IF STATEMENT \n",
    "\n",
    "x = 5 \n",
    "if (x < 10):\n",
    "    print(\"x is smaller than 10\")\n"
   ]
  },
  {
   "cell_type": "code",
   "execution_count": 3,
   "metadata": {},
   "outputs": [
    {
     "name": "stdout",
     "output_type": "stream",
     "text": [
      "x is equal to 50\n"
     ]
    }
   ],
   "source": [
    "# IF ELSE STATEMENT\n",
    "\n",
    "x=50 \n",
    "if (x!=50):\n",
    "    print(\"x is not equal to 50\")\n",
    "else:\n",
    "          print(\"x is equal to 50\")"
   ]
  },
  {
   "cell_type": "code",
   "execution_count": 4,
   "metadata": {},
   "outputs": [
    {
     "name": "stdout",
     "output_type": "stream",
     "text": [
      "i is equal to 40\n"
     ]
    }
   ],
   "source": [
    "# NESTED IF STATEMENT \n",
    "\n",
    "i = 40 \n",
    "if(i==40):\n",
    "    if (i>40):\n",
    "        print(\"i is greater 40\")\n",
    "    if (i<40):\n",
    "        print(\"i is less than 40\")\n",
    "    else:\n",
    "        print(\"i is equal to 40\")"
   ]
  },
  {
   "cell_type": "code",
   "execution_count": 7,
   "metadata": {},
   "outputs": [
    {
     "name": "stdout",
     "output_type": "stream",
     "text": [
      "x is equal to 20\n"
     ]
    }
   ],
   "source": [
    "# if elif else ladder \n",
    "\n",
    "x = 20 \n",
    "if (x==10):\n",
    "    print(\"x is equal to 10\")\n",
    "elif(x==15):\n",
    "    print(\"x is equal to 15\")\n",
    "elif(x>20):\n",
    "    print(\"x is greater than 20\")\n",
    "else:\n",
    "    print(\"x is equal to 20\")"
   ]
  },
  {
   "cell_type": "code",
   "execution_count": 11,
   "metadata": {},
   "outputs": [
    {
     "name": "stdout",
     "output_type": "stream",
     "text": [
      "x is gretaer than 15\n"
     ]
    }
   ],
   "source": [
    "# short hand if statement\n",
    "\n",
    "x = 20\n",
    "if x >15 : print(\"x is gretaer than 15\")"
   ]
  },
  {
   "cell_type": "code",
   "execution_count": 2,
   "metadata": {},
   "outputs": [
    {
     "name": "stdout",
     "output_type": "stream",
     "text": [
      "Y\n",
      "o\n",
      "g\n",
      "e\n",
      "s\n",
      "h\n",
      " \n",
      "i\n",
      "s\n",
      " \n",
      "S\n",
      "t\n",
      "u\n",
      "d\n",
      "e\n",
      "n\n",
      "t\n"
     ]
    }
   ],
   "source": [
    "# for loop \n",
    "\n",
    "l = (\"Yogesh is Student\")\n",
    "for i in l:\n",
    "    print(i)"
   ]
  },
  {
   "cell_type": "code",
   "execution_count": 3,
   "metadata": {},
   "outputs": [
    {
     "name": "stdout",
     "output_type": "stream",
     "text": [
      "Yogesh\n",
      "is\n",
      "Student\n"
     ]
    }
   ],
   "source": [
    "x = (\"Yogesh\",\"is\",\"Student\")\n",
    "for i in x:\n",
    "    print(i)"
   ]
  },
  {
   "cell_type": "code",
   "execution_count": 4,
   "metadata": {},
   "outputs": [
    {
     "name": "stdout",
     "output_type": "stream",
     "text": [
      "0\n",
      "1\n",
      "2\n",
      "3\n",
      "4\n",
      "5\n",
      "6\n",
      "7\n",
      "8\n",
      "9\n"
     ]
    }
   ],
   "source": [
    "for i in range(10):\n",
    "    print(i)"
   ]
  },
  {
   "cell_type": "code",
   "execution_count": 6,
   "metadata": {},
   "outputs": [
    {
     "name": "stdout",
     "output_type": "stream",
     "text": [
      "0 1 2 3 4 5 6 7 8 9 \n"
     ]
    }
   ],
   "source": [
    "for i in range(10):\n",
    "    print(i, end=\" \")\n",
    "print()"
   ]
  },
  {
   "cell_type": "code",
   "execution_count": 7,
   "metadata": {},
   "outputs": [
    {
     "name": "stdout",
     "output_type": "stream",
     "text": [
      "1\n",
      "2\n",
      "3\n",
      "4\n",
      "No Break\n",
      "\n"
     ]
    }
   ],
   "source": [
    "# for else \n",
    "\n",
    "for i in range (1,5):\n",
    "    print(i)\n",
    "else:\n",
    "    print(\"No Break\\n\")"
   ]
  },
  {
   "cell_type": "code",
   "execution_count": 8,
   "metadata": {},
   "outputs": [
    {
     "name": "stdout",
     "output_type": "stream",
     "text": [
      "1\n"
     ]
    }
   ],
   "source": [
    "for i in range (1,6):\n",
    "    print(i)\n",
    "    break\n",
    "else:\n",
    "    print(\"No Break\\n\")"
   ]
  },
  {
   "cell_type": "code",
   "execution_count": 14,
   "metadata": {},
   "outputs": [
    {
     "name": "stdout",
     "output_type": "stream",
     "text": [
      "10 20 30 40 "
     ]
    }
   ],
   "source": [
    "l = [10,20,30,40]\n",
    "for i in range (len(l)):\n",
    "    print(l[i],end=\" \")"
   ]
  },
  {
   "cell_type": "code",
   "execution_count": 21,
   "metadata": {},
   "outputs": [
    {
     "name": "stdout",
     "output_type": "stream",
     "text": [
      "g k f o r g k \n"
     ]
    }
   ],
   "source": [
    "# loop control statements break,continue,pass \n",
    "\n",
    "\n",
    "s = \"geeksforgeeks\"\n",
    "for letter in s:\n",
    "    \n",
    "    if letter == \"e\" or letter == \"s\":\n",
    "     continue    \n",
    "    print(letter,end=\" \")\n",
    "print()"
   ]
  },
  {
   "cell_type": "code",
   "execution_count": 22,
   "metadata": {},
   "outputs": [
    {
     "name": "stdout",
     "output_type": "stream",
     "text": [
      "g "
     ]
    }
   ],
   "source": [
    "for letter in s:\n",
    "    if letter == \"e\" or letter == \"s\":\n",
    "     break \n",
    "    print(letter,end=\" \")"
   ]
  },
  {
   "cell_type": "code",
   "execution_count": 23,
   "metadata": {},
   "outputs": [
    {
     "name": "stdout",
     "output_type": "stream",
     "text": [
      "g e e k s f o r g e e k s "
     ]
    }
   ],
   "source": [
    "for letter in s:\n",
    "    if letter == \"e\" or letter == \"s\":\n",
    "     pass\n",
    "    print(letter,end=\" \")"
   ]
  },
  {
   "cell_type": "code",
   "execution_count": 27,
   "metadata": {},
   "outputs": [
    {
     "name": "stdout",
     "output_type": "stream",
     "text": [
      "Yogesh\n",
      "Yogesh\n",
      "Yogesh\n",
      "Yogesh\n",
      "Yogesh\n"
     ]
    }
   ],
   "source": [
    "# while loop \n",
    "\n",
    "i=1\n",
    "while i<=5:\n",
    "    print(\"Yogesh\") # increment\n",
    "    i=i+1"
   ]
  },
  {
   "cell_type": "code",
   "execution_count": 26,
   "metadata": {},
   "outputs": [
    {
     "name": "stdout",
     "output_type": "stream",
     "text": [
      "Yogesh\n",
      "Yogesh\n",
      "Yogesh\n",
      "Yogesh\n",
      "Yogesh\n"
     ]
    }
   ],
   "source": [
    "i = 5\n",
    "while i>=1:\n",
    "    print(\"Yogesh\")   # decrement\n",
    "    i=i-1"
   ]
  },
  {
   "cell_type": "code",
   "execution_count": null,
   "metadata": {},
   "outputs": [],
   "source": [
    "i = 1\n",
    "while i < 6:\n",
    "    print(i) \n",
    "    "
   ]
  },
  {
   "cell_type": "code",
   "execution_count": null,
   "metadata": {},
   "outputs": [],
   "source": []
  }
 ],
 "metadata": {
  "kernelspec": {
   "display_name": "Python 3",
   "language": "python",
   "name": "python3"
  },
  "language_info": {
   "codemirror_mode": {
    "name": "ipython",
    "version": 3
   },
   "file_extension": ".py",
   "mimetype": "text/x-python",
   "name": "python",
   "nbconvert_exporter": "python",
   "pygments_lexer": "ipython3",
   "version": "3.8.5"
  }
 },
 "nbformat": 4,
 "nbformat_minor": 4
}
