{
 "cells": [
  {
   "cell_type": "markdown",
   "metadata": {},
   "source": [
    "1 - Program to find weather the character is alphabet or not "
   ]
  },
  {
   "cell_type": "code",
   "execution_count": 3,
   "metadata": {},
   "outputs": [
    {
     "name": "stdout",
     "output_type": "stream",
     "text": [
      "Enter any character: yogesh\n",
      "yogesh is a alphabet\n"
     ]
    }
   ],
   "source": [
    "char = input(\"Enter any character: \")\n",
    "\n",
    "if ((char>=\"a\" and char<=\"z\") or (char>=\"A\" and char<=\"Z\")):\n",
    "    print(char,\"is a alphabet\")\n",
    "    \n",
    "else:\n",
    "    (\"Not a alphabet\")"
   ]
  },
  {
   "cell_type": "markdown",
   "metadata": {},
   "source": [
    "2 - Program to find weather character is vowel or consonant"
   ]
  },
  {
   "cell_type": "code",
   "execution_count": 4,
   "metadata": {},
   "outputs": [
    {
     "name": "stdout",
     "output_type": "stream",
     "text": [
      "Enter a character: A\n",
      "a is a vowel\n"
     ]
    }
   ],
   "source": [
    "char = input(\"Enter a character: \")\n",
    " \n",
    "char = char.lower()\n",
    "if (char == \"a\" or char == \"e\" or char == \"i\" or char == \"o\" or char == \"u\"):\n",
    "    print(char,\"is a vowel\")\n",
    "    \n",
    "else:\n",
    "    print(char,\"is a consonant\")"
   ]
  },
  {
   "cell_type": "markdown",
   "metadata": {},
   "source": [
    "3 - program to convert upper case character to lower case"
   ]
  },
  {
   "cell_type": "code",
   "execution_count": 8,
   "metadata": {},
   "outputs": [
    {
     "name": "stdout",
     "output_type": "stream",
     "text": [
      "a\n"
     ]
    }
   ],
   "source": [
    "ch = \"A\"\n",
    "ch = ch.lower()\n",
    "print(ch)\n"
   ]
  },
  {
   "cell_type": "markdown",
   "metadata": {},
   "source": [
    "4 - lower case to upper case\n"
   ]
  },
  {
   "cell_type": "code",
   "execution_count": 10,
   "metadata": {},
   "outputs": [
    {
     "name": "stdout",
     "output_type": "stream",
     "text": [
      "A\n"
     ]
    }
   ],
   "source": [
    "ch = \"a\"\n",
    "\n",
    "ch = ch.upper()\n",
    "print(ch)"
   ]
  },
  {
   "cell_type": "code",
   "execution_count": 22,
   "metadata": {},
   "outputs": [
    {
     "name": "stdout",
     "output_type": "stream",
     "text": [
      "['y', 'o', 'g', 'e', 's', 'h']\n",
      "6\n",
      "<class 'list'>\n",
      "g\n",
      "('y', 'o', 'g', 'e', 's', 'h')\n",
      "{'o', 'g', 's', 'h', 'e', 'y'}\n"
     ]
    }
   ],
   "source": [
    "ch = \"yogesh\"\n",
    "a = list(ch)\n",
    "print(a)\n",
    "print(len(a))\n",
    "print(type(a))\n",
    "print(a[2])\n",
    "b = tuple(a)\n",
    "print(b)\n",
    "c = set(b)\n",
    "print(c)\n",
    "\n"
   ]
  },
  {
   "cell_type": "code",
   "execution_count": null,
   "metadata": {},
   "outputs": [],
   "source": []
  }
 ],
 "metadata": {
  "kernelspec": {
   "display_name": "Python 3",
   "language": "python",
   "name": "python3"
  },
  "language_info": {
   "codemirror_mode": {
    "name": "ipython",
    "version": 3
   },
   "file_extension": ".py",
   "mimetype": "text/x-python",
   "name": "python",
   "nbconvert_exporter": "python",
   "pygments_lexer": "ipython3",
   "version": "3.8.5"
  }
 },
 "nbformat": 4,
 "nbformat_minor": 4
}
