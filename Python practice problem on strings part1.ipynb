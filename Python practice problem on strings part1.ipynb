{
 "cells": [
  {
   "cell_type": "markdown",
   "metadata": {},
   "source": [
    "1-Program to reverse a string "
   ]
  },
  {
   "cell_type": "code",
   "execution_count": 1,
   "metadata": {},
   "outputs": [
    {
     "name": "stdout",
     "output_type": "stream",
     "text": [
      "Enter a string: yogesh\n",
      "hsegoy\n"
     ]
    }
   ],
   "source": [
    "a = input(\"Enter a string: \")\n",
    "\n",
    "print(a[-1::-1])"
   ]
  },
  {
   "cell_type": "markdown",
   "metadata": {},
   "source": [
    "2-Program to count number of vowels and consonants in an string"
   ]
  },
  {
   "cell_type": "code",
   "execution_count": 5,
   "metadata": {},
   "outputs": [
    {
     "name": "stdout",
     "output_type": "stream",
     "text": [
      "Enter a string: yogesh\n",
      "Total Vowels are 2\n",
      "Total consonants are 4\n"
     ]
    }
   ],
   "source": [
    "a = input(\"Enter a string: \")\n",
    "vowel = 0\n",
    "consonant = 0\n",
    "for i in range(0,len(a)):\n",
    "    if(a[i]!=''):\n",
    "        if(a[i]=='a' or a[i]=='e' or a[i]=='i' or a[i]=='o' or a[i]=='u' or a[i]=='A' or a[i]=='E' or a[i]=='I' or a[i]=='O' or a[i]=='U'):\n",
    "            vowel=vowel+1\n",
    "        else:\n",
    "            consonant=consonant+1\n",
    "            \n",
    "print(\"Total Vowels are\",vowel)\n",
    "print(\"Total consonants are\",consonant)"
   ]
  },
  {
   "cell_type": "markdown",
   "metadata": {},
   "source": [
    "3-Program to copy a string"
   ]
  },
  {
   "cell_type": "code",
   "execution_count": 1,
   "metadata": {},
   "outputs": [
    {
     "name": "stdout",
     "output_type": "stream",
     "text": [
      "Enter a string: yogesh khairnar\n",
      "Final string:str2 = yogesh khairnar\n"
     ]
    }
   ],
   "source": [
    "str1= input(\"Enter a string: \")\n",
    "str2=''\n",
    "\n",
    "for i in str1:\n",
    "    str2=str2 + i\n",
    "    \n",
    "print(\"Final string:str2 =\",str2)"
   ]
  },
  {
   "cell_type": "markdown",
   "metadata": {},
   "source": [
    "4-Program to concatenate two strings"
   ]
  },
  {
   "cell_type": "code",
   "execution_count": 5,
   "metadata": {},
   "outputs": [
    {
     "name": "stdout",
     "output_type": "stream",
     "text": [
      "Enter String1:Yogesh\n",
      "Enter String2: Khairnar\n",
      "Concatenated string is Yogesh Khairnar\n"
     ]
    }
   ],
   "source": [
    "str1 = input(\"Enter String1:\")\n",
    "str2 = input(\"Enter String2:\")\n",
    "\n",
    "print(\"Concatenated string is\",str1 + str2)"
   ]
  },
  {
   "cell_type": "code",
   "execution_count": 7,
   "metadata": {},
   "outputs": [
    {
     "name": "stdout",
     "output_type": "stream",
     "text": [
      "Yogesh Khairnar\n"
     ]
    }
   ],
   "source": [
    "str1 = \"Yogesh\"\n",
    "str2 = \"Khairnar\"\n",
    "\n",
    "str3 = \" \".join([str1,str2])\n",
    "print(str3)"
   ]
  },
  {
   "cell_type": "markdown",
   "metadata": {},
   "source": [
    "Printing length of string"
   ]
  },
  {
   "cell_type": "code",
   "execution_count": 8,
   "metadata": {},
   "outputs": [
    {
     "name": "stdout",
     "output_type": "stream",
     "text": [
      "6\n"
     ]
    }
   ],
   "source": [
    "x = \"Yogesh\"\n",
    "print(len(x))"
   ]
  },
  {
   "cell_type": "code",
   "execution_count": 1,
   "metadata": {},
   "outputs": [
    {
     "name": "stdout",
     "output_type": "stream",
     "text": [
      "97\n"
     ]
    }
   ],
   "source": [
    "print(ord(\"a\"))"
   ]
  },
  {
   "cell_type": "code",
   "execution_count": 3,
   "metadata": {},
   "outputs": [
    {
     "name": "stdout",
     "output_type": "stream",
     "text": [
      "65\n"
     ]
    }
   ],
   "source": [
    "print(ord(\"A\"))"
   ]
  },
  {
   "cell_type": "markdown",
   "metadata": {},
   "source": [
    "5-Program for counting any character in a string"
   ]
  },
  {
   "cell_type": "code",
   "execution_count": 11,
   "metadata": {},
   "outputs": [
    {
     "name": "stdout",
     "output_type": "stream",
     "text": [
      "counts 4\n"
     ]
    }
   ],
   "source": [
    "\n",
    "count=0\n",
    "for letter in \"YogeshYYY\":\n",
    "    if(letter==\"Y\"):\n",
    "        count+=1\n",
    "print(\"counts\",count)"
   ]
  },
  {
   "cell_type": "markdown",
   "metadata": {},
   "source": [
    "6-Program to find length of string without using len function"
   ]
  },
  {
   "cell_type": "code",
   "execution_count": 12,
   "metadata": {},
   "outputs": [
    {
     "name": "stdout",
     "output_type": "stream",
     "text": [
      "Enter a string:yogesh\n",
      "Length of given string is 6\n"
     ]
    }
   ],
   "source": [
    "x = input(\"Enter a string:\" )\n",
    "character = x \n",
    "length = 0\n",
    "for i in character:\n",
    "    length=length+1\n",
    "print(\"Length of given string is\",length)"
   ]
  },
  {
   "cell_type": "markdown",
   "metadata": {},
   "source": [
    "7-Program to toggle each character in a string \n",
    "\n",
    "Toggle a character means (convert upper case to lower and vice versa)"
   ]
  },
  {
   "cell_type": "code",
   "execution_count": 1,
   "metadata": {},
   "outputs": [
    {
     "name": "stdout",
     "output_type": "stream",
     "text": [
      "Enter a string: yogesh\n",
      "1.upper 2.lower 3.swapcase 4.title 5.quit\n",
      "Select the Operation: 4\n",
      "Yogesh\n",
      "1.upper 2.lower 3.swapcase 4.title 5.quit\n",
      "Select the Operation: 1\n",
      "YOGESH\n",
      "1.upper 2.lower 3.swapcase 4.title 5.quit\n",
      "Select the Operation: 3\n",
      "YOGESH\n",
      "1.upper 2.lower 3.swapcase 4.title 5.quit\n",
      "Select the Operation: 5\n"
     ]
    }
   ],
   "source": [
    "str1 = input(\"Enter a string: \")\n",
    "while True:\n",
    "    \n",
    "    print(\"1.upper 2.lower 3.swapcase 4.title 5.quit\")\n",
    "    n=int(input(\"Select the Operation: \"))\n",
    "    if n==1:\n",
    "        print(str1.upper())\n",
    "    elif n==2:\n",
    "        print(str1.lower())\n",
    "    elif n==3:\n",
    "        print(str1.swapcase())\n",
    "    elif n==4:\n",
    "        print(str1.title())\n",
    "    elif n==5:\n",
    "        break\n",
    "    else:\n",
    "        print(\"Select the correct operation\")\n",
    "    \n",
    "\n"
   ]
  },
  {
   "cell_type": "markdown",
   "metadata": {},
   "source": [
    "8-Program to remove vowels from the string "
   ]
  },
  {
   "cell_type": "code",
   "execution_count": 4,
   "metadata": {},
   "outputs": [
    {
     "name": "stdout",
     "output_type": "stream",
     "text": [
      "Enter a string: yogesh\n",
      "ygsh\n"
     ]
    }
   ],
   "source": [
    "x=input(\"Enter a string: \")\n",
    "v = ['a','e','i','o','u','A','E','I','O','U'] \n",
    "s1=''\n",
    "\n",
    "for i in x:\n",
    "    if i not in v:\n",
    "        s1+=i\n",
    "print(s1)"
   ]
  },
  {
   "cell_type": "markdown",
   "metadata": {},
   "source": [
    "9-Program to sort a string in alphabetical order"
   ]
  },
  {
   "cell_type": "code",
   "execution_count": 5,
   "metadata": {},
   "outputs": [
    {
     "name": "stdout",
     "output_type": "stream",
     "text": [
      "Enter a string: badcz\n",
      "abcdz\n"
     ]
    }
   ],
   "source": [
    "x=input(\"Enter a string: \")\n",
    "y=list(x)\n",
    "z=y\n",
    "print(''.join(sorted(z)))"
   ]
  },
  {
   "cell_type": "markdown",
   "metadata": {},
   "source": [
    "10-Program to capatalize 1st character of string"
   ]
  },
  {
   "cell_type": "code",
   "execution_count": null,
   "metadata": {},
   "outputs": [
    {
     "name": "stdout",
     "output_type": "stream",
     "text": [
      "Enter a string: yogesh\n",
      "the original string is yogesh\n",
      "The string after uppercasing Yogesh\n",
      "Enter a string: khairnar\n",
      "the original string is khairnar\n",
      "The string after uppercasing Khairnar\n"
     ]
    }
   ],
   "source": [
    "while True:\n",
    "    str1 = input(\"Enter a string: \")\n",
    "    print(\"the original string is\",str1)\n",
    "\n",
    "    res = str1[0].upper() + str1[1:]\n",
    "    print(\"The string after uppercasing\",str(res))"
   ]
  },
  {
   "cell_type": "code",
   "execution_count": null,
   "metadata": {},
   "outputs": [],
   "source": []
  }
 ],
 "metadata": {
  "kernelspec": {
   "display_name": "Python 3",
   "language": "python",
   "name": "python3"
  },
  "language_info": {
   "codemirror_mode": {
    "name": "ipython",
    "version": 3
   },
   "file_extension": ".py",
   "mimetype": "text/x-python",
   "name": "python",
   "nbconvert_exporter": "python",
   "pygments_lexer": "ipython3",
   "version": "3.8.5"
  }
 },
 "nbformat": 4,
 "nbformat_minor": 4
}
