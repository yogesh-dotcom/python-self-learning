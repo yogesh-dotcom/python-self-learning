{
 "cells": [
  {
   "cell_type": "markdown",
   "metadata": {},
   "source": [
    "1- Write a program to find sum of digits of a given number"
   ]
  },
  {
   "cell_type": "code",
   "execution_count": 4,
   "metadata": {},
   "outputs": [
    {
     "name": "stdout",
     "output_type": "stream",
     "text": [
      "Enter a number: 34\n",
      "Sum of number is= 7\n"
     ]
    }
   ],
   "source": [
    "i = int(input(\"Enter a number: \"))\n",
    "sum=0\n",
    "while i>0:\n",
    "    sum=sum+i%10\n",
    "    i=i//10\n",
    "    \n",
    "print(\"Sum of number is=\",sum)"
   ]
  },
  {
   "cell_type": "markdown",
   "metadata": {},
   "source": [
    "2-Write a program to find weather the number is positive or negative\n"
   ]
  },
  {
   "cell_type": "code",
   "execution_count": 8,
   "metadata": {},
   "outputs": [
    {
     "name": "stdout",
     "output_type": "stream",
     "text": [
      "Enter a number: 8\n",
      "8 number is positive\n"
     ]
    }
   ],
   "source": [
    "x = int(input(\"Enter a number: \"))\n",
    "\n",
    "if x==0:\n",
    "    print(\"Enter a number other than 0\")\n",
    "    \n",
    "elif x>0:\n",
    "    print(x,\"number is positive\")\n",
    "    \n",
    "else:\n",
    "    print(x,\"number is negative\")"
   ]
  },
  {
   "cell_type": "markdown",
   "metadata": {},
   "source": [
    "3 - Write a program to find greatest of two numbers"
   ]
  },
  {
   "cell_type": "code",
   "execution_count": 9,
   "metadata": {},
   "outputs": [
    {
     "name": "stdout",
     "output_type": "stream",
     "text": [
      "Enter a first number: 8\n",
      "Enter a second number: 9\n",
      "9 is greater\n"
     ]
    }
   ],
   "source": [
    "x = int(input(\"Enter a first number: \"))\n",
    "y = int(input(\"Enter a second number: \"))\n",
    "\n",
    "if x == y:\n",
    "    print(\"both the number are equal\")\n",
    "    \n",
    "elif x>y:\n",
    "    print(x,\"is greater\")\n",
    "    \n",
    "else:\n",
    "    print(y,\"is greater\")\n"
   ]
  },
  {
   "cell_type": "markdown",
   "metadata": {},
   "source": [
    "4 - Write a program to find the given number is even odd\n",
    "\n"
   ]
  },
  {
   "cell_type": "code",
   "execution_count": 10,
   "metadata": {},
   "outputs": [
    {
     "name": "stdout",
     "output_type": "stream",
     "text": [
      "Enter a number: 1\n",
      "1 is odd\n"
     ]
    }
   ],
   "source": [
    "x = int(input(\"Enter a number: \"))\n",
    "\n",
    "if (x%2)==0:\n",
    "    print(x,\"is a even number\")\n",
    "elif x==0:\n",
    "    print(x, \"is even\")\n",
    "else:\n",
    "    print(x,\"is odd\")"
   ]
  },
  {
   "cell_type": "markdown",
   "metadata": {},
   "source": [
    "5 - Write a program to find the greatest of three numbers"
   ]
  },
  {
   "cell_type": "code",
   "execution_count": 1,
   "metadata": {},
   "outputs": [
    {
     "name": "stdout",
     "output_type": "stream",
     "text": [
      "Enter a first number: 5\n",
      "Enter the second number: 8\n",
      "Enter the third number: 45\n",
      "45 is the greatest\n"
     ]
    }
   ],
   "source": [
    "x = int(input(\"Enter a first number: \"))\n",
    "y = int(input(\"Enter the second number: \"))\n",
    "z = int(input(\"Enter the third number: \"))\n",
    "\n",
    "if (x>y) and (x>z):\n",
    "    print(x,\"is the greatest\")\n",
    "    \n",
    "elif (y>x) and (y>z):\n",
    "    print(y,\"is the greatest\")\n",
    "    \n",
    "else:\n",
    "    print(z,\"is the greatest\")"
   ]
  },
  {
   "cell_type": "code",
   "execution_count": null,
   "metadata": {},
   "outputs": [],
   "source": [
    "\n"
   ]
  },
  {
   "cell_type": "code",
   "execution_count": null,
   "metadata": {},
   "outputs": [],
   "source": [
    "\n",
    "\n",
    "\n"
   ]
  },
  {
   "cell_type": "code",
   "execution_count": null,
   "metadata": {},
   "outputs": [],
   "source": []
  },
  {
   "cell_type": "code",
   "execution_count": null,
   "metadata": {},
   "outputs": [],
   "source": []
  }
 ],
 "metadata": {
  "kernelspec": {
   "display_name": "Python 3",
   "language": "python",
   "name": "python3"
  },
  "language_info": {
   "codemirror_mode": {
    "name": "ipython",
    "version": 3
   },
   "file_extension": ".py",
   "mimetype": "text/x-python",
   "name": "python",
   "nbconvert_exporter": "python",
   "pygments_lexer": "ipython3",
   "version": "3.8.5"
  }
 },
 "nbformat": 4,
 "nbformat_minor": 4
}
