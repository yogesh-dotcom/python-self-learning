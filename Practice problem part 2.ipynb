{
 "cells": [
  {
   "cell_type": "markdown",
   "metadata": {},
   "source": [
    "1-Write a program to find area of circle \n"
   ]
  },
  {
   "cell_type": "code",
   "execution_count": 2,
   "metadata": {},
   "outputs": [
    {
     "name": "stdout",
     "output_type": "stream",
     "text": [
      "Enter a radius of circle: 5\n",
      "Area of circle is 78.5\n"
     ]
    }
   ],
   "source": [
    "radius = float(input(\"Enter a radius of circle: \"))\n",
    "PI = 3.14\n",
    "\n",
    "area = PI*radius*radius\n",
    "print(\"Area of circle is\",area)"
   ]
  },
  {
   "cell_type": "markdown",
   "metadata": {},
   "source": [
    "2 - write a program to find area of rectangle"
   ]
  },
  {
   "cell_type": "code",
   "execution_count": 3,
   "metadata": {},
   "outputs": [
    {
     "name": "stdout",
     "output_type": "stream",
     "text": [
      "Enter length of rectangle: 6\n",
      "Enter breadth of rectangle: 5\n",
      "Area of rectangle is 30.0\n"
     ]
    }
   ],
   "source": [
    "length = float(input(\"Enter length of rectangle: \"))\n",
    "breadth = float(input(\"Enter breadth of rectangle: \"))\n",
    "\n",
    "area = length*breadth\n",
    "\n",
    "print(\"Area of rectangle is\",area)"
   ]
  },
  {
   "cell_type": "markdown",
   "metadata": {},
   "source": [
    "3- write a program to find area of triangle"
   ]
  },
  {
   "cell_type": "code",
   "execution_count": 4,
   "metadata": {},
   "outputs": [
    {
     "name": "stdout",
     "output_type": "stream",
     "text": [
      "Enter height of triangle: 8\n",
      "Enter base of triangle: 10\n",
      "Area of rectanglr is 40.0\n"
     ]
    }
   ],
   "source": [
    "height = float(input(\"Enter height of triangle: \"))\n",
    "base = float(input(\"Enter base of triangle: \"))\n",
    "\n",
    "area = (1/2*base*height)\n",
    "print(\"Area of rectanglr is\",area)"
   ]
  },
  {
   "cell_type": "markdown",
   "metadata": {},
   "source": [
    "4-write a program to find sum of  digits of given number"
   ]
  },
  {
   "cell_type": "code",
   "execution_count": 6,
   "metadata": {},
   "outputs": [
    {
     "name": "stdout",
     "output_type": "stream",
     "text": [
      "Enter a number: 45\n",
      "Sum of given num is 9\n"
     ]
    }
   ],
   "source": [
    "i = int(input(\"Enter a number: \"))\n",
    "sum = 0\n",
    "\n",
    "while i>0:\n",
    "    sum = sum+(i%10)\n",
    "    i=i//10\n",
    "    \n",
    "print(\"Sum of given num is\",sum)"
   ]
  },
  {
   "cell_type": "markdown",
   "metadata": {},
   "source": [
    "5 - write a program to find sum of square of digits of given number"
   ]
  },
  {
   "cell_type": "code",
   "execution_count": 7,
   "metadata": {},
   "outputs": [
    {
     "name": "stdout",
     "output_type": "stream",
     "text": [
      "Enter a number: 424\n",
      "Sum of squares is 36\n"
     ]
    }
   ],
   "source": [
    "i = int(input(\"Enter a number: \"))\n",
    "\n",
    "sum = 0\n",
    "while i>0:\n",
    "    sum = sum+(i%10)*(i%10)\n",
    "    i = i//10\n",
    "print(\"Sum of squares is\",sum)"
   ]
  },
  {
   "cell_type": "code",
   "execution_count": null,
   "metadata": {},
   "outputs": [],
   "source": []
  }
 ],
 "metadata": {
  "kernelspec": {
   "display_name": "Python 3",
   "language": "python",
   "name": "python3"
  },
  "language_info": {
   "codemirror_mode": {
    "name": "ipython",
    "version": 3
   },
   "file_extension": ".py",
   "mimetype": "text/x-python",
   "name": "python",
   "nbconvert_exporter": "python",
   "pygments_lexer": "ipython3",
   "version": "3.8.5"
  }
 },
 "nbformat": 4,
 "nbformat_minor": 4
}
