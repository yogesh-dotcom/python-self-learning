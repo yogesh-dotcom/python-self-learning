{
 "cells": [
  {
   "cell_type": "code",
   "execution_count": 1,
   "metadata": {},
   "outputs": [
    {
     "name": "stdout",
     "output_type": "stream",
     "text": [
      "{'Civil', 'Mechanical', 'Electrical', 'Electronics', 'Computer'}\n"
     ]
    }
   ],
   "source": [
    "# PYTHON SETS \n",
    "# CREATING A SET \n",
    "\n",
    "myset = {\"Mechanical\",\"Civil\",\"Electrical\",\"Computer\",\"Electronics\"}\n",
    "print(myset)"
   ]
  },
  {
   "cell_type": "code",
   "execution_count": 2,
   "metadata": {},
   "outputs": [
    {
     "name": "stdout",
     "output_type": "stream",
     "text": [
      "<class 'set'>\n"
     ]
    }
   ],
   "source": [
    "print(type(myset))"
   ]
  },
  {
   "cell_type": "code",
   "execution_count": 3,
   "metadata": {},
   "outputs": [
    {
     "name": "stdout",
     "output_type": "stream",
     "text": [
      "5\n"
     ]
    }
   ],
   "source": [
    "print(len(myset))"
   ]
  },
  {
   "cell_type": "code",
   "execution_count": 4,
   "metadata": {},
   "outputs": [
    {
     "name": "stdout",
     "output_type": "stream",
     "text": [
      "{'banana', 'mango', 'apple'}\n",
      "{'6', '5', '1'}\n",
      "{'True', 'False'}\n"
     ]
    }
   ],
   "source": [
    "# sets contains any data types\n",
    "\n",
    "set1 = {\"apple\",\"banana\",\"mango\"}\n",
    "set2 = {\"1\",\"5\",\"6\"}\n",
    "set3 = {\"True\",\"False\",\"True\"}\n",
    "print(set1)\n",
    "print(set2)\n",
    "print(set3)\n"
   ]
  },
  {
   "cell_type": "code",
   "execution_count": 5,
   "metadata": {},
   "outputs": [
    {
     "name": "stdout",
     "output_type": "stream",
     "text": [
      "{'english', 'history', 'science', 'maths'}\n"
     ]
    }
   ],
   "source": [
    "# sets does not cantains duplicate values \n",
    "\n",
    "subjects = {\"english\",\"maths\",\"science\",\"maths\",\"history\"}\n",
    "print(subjects)"
   ]
  },
  {
   "cell_type": "code",
   "execution_count": 6,
   "metadata": {},
   "outputs": [
    {
     "name": "stdout",
     "output_type": "stream",
     "text": [
      "{'True', '3.4', 'yogesh', '32', '1'}\n"
     ]
    }
   ],
   "source": [
    "set = {\"1\",\"yogesh\",\"True\",\"3.4\",\"32\"}\n",
    "print(set)"
   ]
  },
  {
   "cell_type": "code",
   "execution_count": 11,
   "metadata": {},
   "outputs": [
    {
     "ename": "TypeError",
     "evalue": "'set' object is not callable",
     "output_type": "error",
     "traceback": [
      "\u001b[1;31m---------------------------------------------------------------------------\u001b[0m",
      "\u001b[1;31mTypeError\u001b[0m                                 Traceback (most recent call last)",
      "\u001b[1;32m<ipython-input-11-2b75ed068f56>\u001b[0m in \u001b[0;36m<module>\u001b[1;34m\u001b[0m\n\u001b[0;32m      1\u001b[0m \u001b[1;31m# sets constructor\u001b[0m\u001b[1;33m\u001b[0m\u001b[1;33m\u001b[0m\u001b[1;33m\u001b[0m\u001b[0m\n\u001b[0;32m      2\u001b[0m \u001b[1;33m\u001b[0m\u001b[0m\n\u001b[1;32m----> 3\u001b[1;33m \u001b[0mthisset\u001b[0m \u001b[1;33m=\u001b[0m \u001b[0mset\u001b[0m \u001b[1;33m(\u001b[0m\u001b[1;33m(\u001b[0m\u001b[1;34m\"yogesh\"\u001b[0m\u001b[1;33m,\u001b[0m\u001b[1;34m\"pavan\"\u001b[0m\u001b[1;33m,\u001b[0m\u001b[1;34m\"adesh\"\u001b[0m\u001b[1;33m,\u001b[0m\u001b[1;34m\"prathamesh\"\u001b[0m\u001b[1;33m,\u001b[0m\u001b[1;34m\"shubham\"\u001b[0m\u001b[1;33m)\u001b[0m\u001b[1;33m)\u001b[0m\u001b[1;33m\u001b[0m\u001b[1;33m\u001b[0m\u001b[0m\n\u001b[0m\u001b[0;32m      4\u001b[0m \u001b[1;33m\u001b[0m\u001b[0m\n\u001b[0;32m      5\u001b[0m \u001b[0mprint\u001b[0m\u001b[1;33m(\u001b[0m\u001b[0mthisset\u001b[0m\u001b[1;33m)\u001b[0m\u001b[1;33m\u001b[0m\u001b[1;33m\u001b[0m\u001b[0m\n",
      "\u001b[1;31mTypeError\u001b[0m: 'set' object is not callable"
     ]
    }
   ],
   "source": [
    "# sets constructor\n",
    "\n",
    "thisset = set ((\"yogesh\",\"pavan\",\"adesh\",\"prathamesh\",\"shubham\"))\n",
    "\n",
    "print(thisset)"
   ]
  },
  {
   "cell_type": "code",
   "execution_count": 13,
   "metadata": {},
   "outputs": [
    {
     "name": "stdout",
     "output_type": "stream",
     "text": [
      "Adesh\n",
      "Prathamesh\n",
      "Pavan\n",
      "Yogesh\n"
     ]
    }
   ],
   "source": [
    "#access set items \n",
    "\n",
    "group = {\"Yogesh\",\"Pavan\",\"Adesh\",\"Prathamesh\"}\n",
    "for x in group:\n",
    "    print(x)\n",
    "\n"
   ]
  },
  {
   "cell_type": "code",
   "execution_count": 14,
   "metadata": {},
   "outputs": [
    {
     "name": "stdout",
     "output_type": "stream",
     "text": [
      "True\n"
     ]
    }
   ],
   "source": [
    "print(\"Yogesh\" in group)\n"
   ]
  },
  {
   "cell_type": "code",
   "execution_count": 16,
   "metadata": {},
   "outputs": [
    {
     "name": "stdout",
     "output_type": "stream",
     "text": [
      "{'Capegemeni', 'Accenture', 'Infosys', 'Wipro', 'Tcs'}\n"
     ]
    }
   ],
   "source": [
    "#add set items\n",
    "\n",
    "Companys = {\"Tcs\",\"Infosys\",\"Wipro\",\"Accenture\"}\n",
    "Companys.add(\"Capegemeni\")\n",
    "print(Companys)"
   ]
  },
  {
   "cell_type": "code",
   "execution_count": 17,
   "metadata": {},
   "outputs": [
    {
     "name": "stdout",
     "output_type": "stream",
     "text": [
      "{'banana', 'cheery', 'papaya', 'pineapple', 'mango', 'apple'}\n"
     ]
    }
   ],
   "source": [
    "set1 = {\"apple\",\"banana\",\"cheery\"}\n",
    "set2 = {\"pineapple\",\"mango\",\"papaya\"}\n",
    "set1.update(set2)\n",
    "print(set1)"
   ]
  },
  {
   "cell_type": "code",
   "execution_count": 18,
   "metadata": {},
   "outputs": [
    {
     "name": "stdout",
     "output_type": "stream",
     "text": [
      "{'Mumbai', 'Pune'}\n"
     ]
    }
   ],
   "source": [
    "# remove items \n",
    " \n",
    "thisset = {\"Pune\",\"Mumbai\",\"Nagpur\"}\n",
    "thisset.remove(\"Nagpur\")\n",
    "print(thisset)\n"
   ]
  },
  {
   "cell_type": "code",
   "execution_count": 22,
   "metadata": {},
   "outputs": [
    {
     "name": "stdout",
     "output_type": "stream",
     "text": [
      "set()\n"
     ]
    }
   ],
   "source": [
    "myset= {\"Maharashtra\",\"Delhi\",\"Gujrat\",\"Karnataka\"}\n",
    "myset.clear()\n",
    "print(myset)\n"
   ]
  },
  {
   "cell_type": "code",
   "execution_count": 23,
   "metadata": {},
   "outputs": [
    {
     "name": "stdout",
     "output_type": "stream",
     "text": [
      "mangoes\n",
      "banana\n",
      "cheery\n",
      "apple\n"
     ]
    }
   ],
   "source": [
    "#loop sets \n",
    "\n",
    "thisset={\"apple\",\"banana\",\"mangoes\",\"cheery\"}\n",
    "for x in thisset:\n",
    "    print(x)"
   ]
  },
  {
   "cell_type": "code",
   "execution_count": 1,
   "metadata": {},
   "outputs": [
    {
     "name": "stdout",
     "output_type": "stream",
     "text": [
      "{1, 2, 'b', 'a', 3, 'c'}\n"
     ]
    }
   ],
   "source": [
    "# joining two sets \n",
    "\n",
    "set1={\"a\",\"b\",\"c\"}\n",
    "set2={1,2,3}\n",
    "set3=set1.union(set2)\n",
    "print(set3)"
   ]
  },
  {
   "cell_type": "code",
   "execution_count": 2,
   "metadata": {},
   "outputs": [
    {
     "name": "stdout",
     "output_type": "stream",
     "text": [
      "{'himanshu', 'mayur', 'prathamesh', 'adesh', 'pawan', 'yogesh'}\n"
     ]
    }
   ],
   "source": [
    "set1={\"yogesh\",\"pawan\",\"adesh\"}\n",
    "set2={\"prathamesh\",\"himanshu\",\"mayur\"}\n",
    "\n",
    "set1.update(set2)\n",
    "print(set1)"
   ]
  },
  {
   "cell_type": "code",
   "execution_count": 3,
   "metadata": {},
   "outputs": [
    {
     "name": "stdout",
     "output_type": "stream",
     "text": [
      "{'apple'}\n"
     ]
    }
   ],
   "source": [
    "x={\"apple\",\"banana\",\"cheery\"}\n",
    "y={\"apple\",\"mango\",\"kiwi\"}\n",
    "x.intersection_update(y)\n",
    "print(x)\n",
    "\n"
   ]
  },
  {
   "cell_type": "code",
   "execution_count": null,
   "metadata": {},
   "outputs": [],
   "source": []
  }
 ],
 "metadata": {
  "kernelspec": {
   "display_name": "Python 3",
   "language": "python",
   "name": "python3"
  },
  "language_info": {
   "codemirror_mode": {
    "name": "ipython",
    "version": 3
   },
   "file_extension": ".py",
   "mimetype": "text/x-python",
   "name": "python",
   "nbconvert_exporter": "python",
   "pygments_lexer": "ipython3",
   "version": "3.8.5"
  }
 },
 "nbformat": 4,
 "nbformat_minor": 4
}
