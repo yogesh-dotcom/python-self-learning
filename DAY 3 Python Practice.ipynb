{
 "cells": [
  {
   "cell_type": "code",
   "execution_count": 1,
   "metadata": {},
   "outputs": [
    {
     "name": "stdout",
     "output_type": "stream",
     "text": [
      "('mangoes', 'apples', 'bananas', 'cheerys', 'kiwis')\n"
     ]
    }
   ],
   "source": [
    "# PYTHON TUPLES \n",
    "\n",
    "# creating tuple \n",
    "\n",
    "mytuple=(\"mangoes\",\"apples\",\"bananas\",\"cheerys\",\"kiwis\",)\n",
    "print(mytuple)"
   ]
  },
  {
   "cell_type": "code",
   "execution_count": 2,
   "metadata": {},
   "outputs": [
    {
     "name": "stdout",
     "output_type": "stream",
     "text": [
      "<class 'tuple'>\n"
     ]
    }
   ],
   "source": [
    "print(type(mytuple))"
   ]
  },
  {
   "cell_type": "code",
   "execution_count": 3,
   "metadata": {},
   "outputs": [
    {
     "name": "stdout",
     "output_type": "stream",
     "text": [
      "('maths', 'science', 'history', 'geography', 'english')\n"
     ]
    }
   ],
   "source": [
    "# tuple length \n",
    "\n",
    "thistuple=(\"maths\",\"science\",\"history\",\"geography\",\"english\")\n",
    "print(thistuple)"
   ]
  },
  {
   "cell_type": "code",
   "execution_count": 4,
   "metadata": {},
   "outputs": [
    {
     "name": "stdout",
     "output_type": "stream",
     "text": [
      "5\n"
     ]
    }
   ],
   "source": [
    "print(len(thistuple))"
   ]
  },
  {
   "cell_type": "code",
   "execution_count": 5,
   "metadata": {},
   "outputs": [
    {
     "name": "stdout",
     "output_type": "stream",
     "text": [
      "('Python',)\n"
     ]
    }
   ],
   "source": [
    "#create tuple with one item\n",
    "\n",
    "thistuple=(\"Python\",)\n",
    "print(thistuple)"
   ]
  },
  {
   "cell_type": "code",
   "execution_count": 6,
   "metadata": {},
   "outputs": [
    {
     "name": "stdout",
     "output_type": "stream",
     "text": [
      "<class 'tuple'>\n"
     ]
    }
   ],
   "source": [
    "print(type(thistuple))"
   ]
  },
  {
   "cell_type": "code",
   "execution_count": 7,
   "metadata": {},
   "outputs": [
    {
     "name": "stdout",
     "output_type": "stream",
     "text": [
      "('apple', 'mangoes', 'banana')\n",
      "(1, 2, 3)\n",
      "(True, False, True)\n"
     ]
    }
   ],
   "source": [
    "tuple1=(\"apple\",\"mangoes\",\"banana\")\n",
    "tuple2=(1,2,3)\n",
    "tuple3=(True,False,True)\n",
    "print(tuple1)\n",
    "print(tuple2)\n",
    "print(tuple3)"
   ]
  },
  {
   "cell_type": "code",
   "execution_count": 8,
   "metadata": {},
   "outputs": [
    {
     "name": "stdout",
     "output_type": "stream",
     "text": [
      "('apple', True, 1, 44.5)\n"
     ]
    }
   ],
   "source": [
    "newtuple=(\"apple\",True,1,44.5)  #tuple can contain different datatypes\n",
    "print(newtuple)"
   ]
  },
  {
   "cell_type": "code",
   "execution_count": 9,
   "metadata": {},
   "outputs": [
    {
     "name": "stdout",
     "output_type": "stream",
     "text": [
      "<class 'tuple'>\n"
     ]
    }
   ],
   "source": [
    "print(type(newtuple))"
   ]
  },
  {
   "cell_type": "code",
   "execution_count": 10,
   "metadata": {},
   "outputs": [
    {
     "name": "stdout",
     "output_type": "stream",
     "text": [
      "('tcs', 'infosys', 'wipro', 'capegemini', 'accenture')\n"
     ]
    }
   ],
   "source": [
    "#tuple constructer\n",
    "\n",
    "thistuple=tuple((\"tcs\",\"infosys\",\"wipro\",\"capegemini\",\"accenture\"))  #round brackets\n",
    "print(thistuple)\n"
   ]
  },
  {
   "cell_type": "code",
   "execution_count": 11,
   "metadata": {},
   "outputs": [
    {
     "name": "stdout",
     "output_type": "stream",
     "text": [
      "English\n"
     ]
    }
   ],
   "source": [
    "# access tuple items \n",
    "\n",
    "Subjects=(\"Science\",\"Maths\",\"English\",\"History\",\"Geography\")\n",
    "print(Subjects[2])"
   ]
  },
  {
   "cell_type": "code",
   "execution_count": 12,
   "metadata": {},
   "outputs": [
    {
     "name": "stdout",
     "output_type": "stream",
     "text": [
      "History\n"
     ]
    }
   ],
   "source": [
    "print(Subjects[-2])"
   ]
  },
  {
   "cell_type": "code",
   "execution_count": 13,
   "metadata": {},
   "outputs": [
    {
     "name": "stdout",
     "output_type": "stream",
     "text": [
      "('English', 'History')\n"
     ]
    }
   ],
   "source": [
    "print(Subjects[2:4])"
   ]
  },
  {
   "cell_type": "code",
   "execution_count": 14,
   "metadata": {},
   "outputs": [
    {
     "name": "stdout",
     "output_type": "stream",
     "text": [
      "('Science', 'Maths', 'English')\n"
     ]
    }
   ],
   "source": [
    "print(Subjects[-5:-2])"
   ]
  },
  {
   "cell_type": "code",
   "execution_count": 15,
   "metadata": {},
   "outputs": [
    {
     "name": "stdout",
     "output_type": "stream",
     "text": [
      "('Science', 'Maths', 'English', 'History')\n"
     ]
    }
   ],
   "source": [
    "print(Subjects[:4])"
   ]
  },
  {
   "cell_type": "code",
   "execution_count": 16,
   "metadata": {},
   "outputs": [
    {
     "name": "stdout",
     "output_type": "stream",
     "text": [
      "('Science', 'Maths', 'English', 'History', 'Geography')\n"
     ]
    }
   ],
   "source": [
    "print(Subjects[:])"
   ]
  },
  {
   "cell_type": "code",
   "execution_count": 17,
   "metadata": {},
   "outputs": [
    {
     "name": "stdout",
     "output_type": "stream",
     "text": [
      "['india', 'china', 'pakistan', 'nepal']\n"
     ]
    }
   ],
   "source": [
    "# change tuple values\n",
    "\n",
    "x=(\"india\",\"china\",\"pakistan\",\"nepal\")\n",
    "y=list(x)\n",
    "print(y)"
   ]
  },
  {
   "cell_type": "code",
   "execution_count": 18,
   "metadata": {},
   "outputs": [
    {
     "name": "stdout",
     "output_type": "stream",
     "text": [
      "('india', 'bangladesh', 'pakistan', 'nepal')\n"
     ]
    }
   ],
   "source": [
    "y[1]=\"bangladesh\"\n",
    "x=tuple(y)\n",
    "print(x)"
   ]
  },
  {
   "cell_type": "code",
   "execution_count": 20,
   "metadata": {},
   "outputs": [
    {
     "name": "stdout",
     "output_type": "stream",
     "text": [
      "('a', 'b', 'c', 1, 2, 3)\n"
     ]
    }
   ],
   "source": [
    "# join tuples \n",
    "\n",
    "tuple1=(\"a\",\"b\",\"c\")\n",
    "tuple2=(1,2,3)\n",
    "\n",
    "tuple3=tuple1+tuple2\n",
    "print(tuple3)"
   ]
  },
  {
   "cell_type": "code",
   "execution_count": 21,
   "metadata": {},
   "outputs": [
    {
     "name": "stdout",
     "output_type": "stream",
     "text": [
      "('apples', 'mangoes', 'banana', 'apples', 'mangoes', 'banana')\n"
     ]
    }
   ],
   "source": [
    "#multiply tuples \n",
    "\n",
    "fruits=(\"apples\",\"mangoes\",\"banana\")\n",
    "mytuple = fruits*2\n",
    "print(mytuple)"
   ]
  },
  {
   "cell_type": "code",
   "execution_count": 22,
   "metadata": {},
   "outputs": [
    {
     "name": "stdout",
     "output_type": "stream",
     "text": [
      "mangoes\n",
      "apples\n",
      "cheerys\n"
     ]
    }
   ],
   "source": [
    "#loop tuples \n",
    "\n",
    "thistuple=(\"mangoes\",\"apples\",\"cheerys\")\n",
    "for x in thistuple:\n",
    "    print(x)"
   ]
  },
  {
   "cell_type": "code",
   "execution_count": 23,
   "metadata": {},
   "outputs": [
    {
     "name": "stdout",
     "output_type": "stream",
     "text": [
      "pune\n",
      "mumbai\n",
      "nashik\n",
      "nagpur\n"
     ]
    }
   ],
   "source": [
    "thistuple=(\"pune\",\"mumbai\",\"nashik\",\"nagpur\")\n",
    "for i in range(len(thistuple)):\n",
    "    print(thistuple[i])"
   ]
  },
  {
   "cell_type": "code",
   "execution_count": null,
   "metadata": {},
   "outputs": [],
   "source": []
  }
 ],
 "metadata": {
  "kernelspec": {
   "display_name": "Python 3",
   "language": "python",
   "name": "python3"
  },
  "language_info": {
   "codemirror_mode": {
    "name": "ipython",
    "version": 3
   },
   "file_extension": ".py",
   "mimetype": "text/x-python",
   "name": "python",
   "nbconvert_exporter": "python",
   "pygments_lexer": "ipython3",
   "version": "3.8.5"
  }
 },
 "nbformat": 4,
 "nbformat_minor": 4
}
