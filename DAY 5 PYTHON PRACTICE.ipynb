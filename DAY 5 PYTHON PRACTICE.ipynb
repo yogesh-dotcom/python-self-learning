{
 "cells": [
  {
   "cell_type": "code",
   "execution_count": 2,
   "metadata": {},
   "outputs": [
    {
     "name": "stdout",
     "output_type": "stream",
     "text": [
      "{'Name': 'Yogesh', 'Age': 21}\n"
     ]
    }
   ],
   "source": [
    "# PYTHON DICTIONARY \n",
    "\n",
    "# Creating A DICTIONARY \n",
    "\n",
    "Dict = {\"Name\":\"Yogesh\",\"Age\":21}\n",
    "print(Dict)"
   ]
  },
  {
   "cell_type": "code",
   "execution_count": 4,
   "metadata": {},
   "outputs": [
    {
     "name": "stdout",
     "output_type": "stream",
     "text": [
      "<class 'dict'>\n",
      "3\n"
     ]
    }
   ],
   "source": [
    "Car = {\"Brand\":\"Suzuki\",\"Model\":\"Swift\",\"Year\":\"2015\"}\n",
    "print(type(Car))\n",
    "print(len(Car))"
   ]
  },
  {
   "cell_type": "code",
   "execution_count": 5,
   "metadata": {},
   "outputs": [
    {
     "name": "stdout",
     "output_type": "stream",
     "text": [
      "Suzuki\n"
     ]
    }
   ],
   "source": [
    "print(Car[\"Brand\"])"
   ]
  },
  {
   "cell_type": "code",
   "execution_count": 6,
   "metadata": {},
   "outputs": [
    {
     "name": "stdout",
     "output_type": "stream",
     "text": [
      "{'Yogesh': '47', 'Shubham': '50', 'Mayur': '48'}\n"
     ]
    }
   ],
   "source": [
    "# duplicates not allowed\n",
    "\n",
    "Students = {\"Yogesh\":\"45\",\"Shubham\":\"50\",\"Mayur\":\"48\",\"Yogesh\":\"47\"}\n",
    "print(Students)"
   ]
  },
  {
   "cell_type": "code",
   "execution_count": 7,
   "metadata": {},
   "outputs": [
    {
     "name": "stdout",
     "output_type": "stream",
     "text": [
      "3\n"
     ]
    }
   ],
   "source": [
    "print(len(Students))"
   ]
  },
  {
   "cell_type": "code",
   "execution_count": 8,
   "metadata": {},
   "outputs": [
    {
     "name": "stdout",
     "output_type": "stream",
     "text": [
      "dict_keys(['Suzuki', 'Hyundai', 'Honda', 'Tata'])\n",
      "dict_values(['Baleno', 'Creta', 'City', 'Safari'])\n"
     ]
    }
   ],
   "source": [
    "Vehicles={\"Suzuki\":\"Baleno\",\"Hyundai\":\"Creta\",\"Honda\":\"City\",\"Tata\":\"Safari\"}\n",
    "x=Vehicles.keys()\n",
    "y=Vehicles.values()\n",
    "print(x)\n",
    "print(y)"
   ]
  },
  {
   "cell_type": "code",
   "execution_count": 9,
   "metadata": {},
   "outputs": [
    {
     "name": "stdout",
     "output_type": "stream",
     "text": [
      "dict_items([('Suzuki', 'Baleno'), ('Hyundai', 'Creta'), ('Honda', 'City'), ('Tata', 'Safari')])\n"
     ]
    }
   ],
   "source": [
    "z=Vehicles.items()\n",
    "print(z)"
   ]
  },
  {
   "cell_type": "code",
   "execution_count": 10,
   "metadata": {},
   "outputs": [
    {
     "name": "stdout",
     "output_type": "stream",
     "text": [
      "{'Yogesh': 'Criket', 'Divya': 'Chess', 'Himanshu': 'Football'}\n"
     ]
    }
   ],
   "source": [
    "# change dictionary values \n",
    "\n",
    "Friends = {\"Yogesh\":\"Criket\",\"Divya\":\"Tennis\",\"Himanshu\":\"Football\",}\n",
    "Friends[\"Divya\"]=\"Chess\"\n",
    "print(Friends)"
   ]
  },
  {
   "cell_type": "code",
   "execution_count": 12,
   "metadata": {},
   "outputs": [
    {
     "name": "stdout",
     "output_type": "stream",
     "text": [
      "{'Yogesh': 'Criket', 'Divya': 'Chess', 'Himanshu': 'Football', 'Shubham': 'Kabbadi'}\n"
     ]
    }
   ],
   "source": [
    "Friends[\"Shubham\"]=\"Kabbadi\"\n",
    "print(Friends)"
   ]
  },
  {
   "cell_type": "code",
   "execution_count": 15,
   "metadata": {},
   "outputs": [
    {
     "name": "stdout",
     "output_type": "stream",
     "text": [
      "{'Brand': 'Hyundai', 'Year': '2017'}\n"
     ]
    }
   ],
   "source": [
    "# remove dictionary items \n",
    "\n",
    "thisdict={\"Brand\":\"Hyundai\",\"Color\":\"Black\",\"Model\":\"Creta\",\"Year\":\"2017\"}\n",
    "thisdict.pop(\"Color\")\n",
    "del thisdict[\"Model\"] \n",
    "print(thisdict)"
   ]
  },
  {
   "cell_type": "code",
   "execution_count": 16,
   "metadata": {},
   "outputs": [
    {
     "ename": "NameError",
     "evalue": "name 'thisdict' is not defined",
     "output_type": "error",
     "traceback": [
      "\u001b[1;31m---------------------------------------------------------------------------\u001b[0m",
      "\u001b[1;31mNameError\u001b[0m                                 Traceback (most recent call last)",
      "\u001b[1;32m<ipython-input-16-ad193cd02359>\u001b[0m in \u001b[0;36m<module>\u001b[1;34m\u001b[0m\n\u001b[0;32m      1\u001b[0m \u001b[1;32mdel\u001b[0m \u001b[0mthisdict\u001b[0m\u001b[1;33m\u001b[0m\u001b[1;33m\u001b[0m\u001b[0m\n\u001b[1;32m----> 2\u001b[1;33m \u001b[0mprint\u001b[0m\u001b[1;33m(\u001b[0m\u001b[0mthisdict\u001b[0m\u001b[1;33m)\u001b[0m\u001b[1;33m\u001b[0m\u001b[1;33m\u001b[0m\u001b[0m\n\u001b[0m",
      "\u001b[1;31mNameError\u001b[0m: name 'thisdict' is not defined"
     ]
    }
   ],
   "source": [
    "del thisdict\n",
    "print(thisdict)"
   ]
  },
  {
   "cell_type": "code",
   "execution_count": 19,
   "metadata": {},
   "outputs": [
    {
     "name": "stdout",
     "output_type": "stream",
     "text": [
      "{'Hyundai': 'Creta', 'Tata': {1: 'Safari', 2: 'Harrier', 3: 'Altroz'}, 'Suzuki': 'Swift'}\n"
     ]
    }
   ],
   "source": [
    "# creating a nested dictionary \n",
    "Cars = {'Hyundai':'Creta','Tata':{1:'Safari',2:'Harrier',3:'Altroz'},'Suzuki':'Swift'}\n",
    "print(Cars)\n",
    "    "
   ]
  },
  {
   "cell_type": "code",
   "execution_count": 22,
   "metadata": {},
   "outputs": [
    {
     "name": "stdout",
     "output_type": "stream",
     "text": [
      "Creta\n"
     ]
    }
   ],
   "source": [
    "print(Cars[\"Hyundai\"])"
   ]
  },
  {
   "cell_type": "code",
   "execution_count": 23,
   "metadata": {},
   "outputs": [
    {
     "name": "stdout",
     "output_type": "stream",
     "text": [
      "3\n"
     ]
    }
   ],
   "source": [
    "print(len(Cars))"
   ]
  },
  {
   "cell_type": "code",
   "execution_count": 24,
   "metadata": {},
   "outputs": [
    {
     "name": "stdout",
     "output_type": "stream",
     "text": [
      "{'Mumbai': 'Rohit', 'Banglore': 'Virat', 'Chennai': 'Dhoni', 'Delhi': 'Pant'}\n"
     ]
    }
   ],
   "source": [
    "team_captains = dict(Mumbai='Rohit',Banglore='Virat',Chennai='Dhoni',Delhi='Pant')\n",
    "print(team_captains)"
   ]
  },
  {
   "cell_type": "code",
   "execution_count": 27,
   "metadata": {},
   "outputs": [
    {
     "name": "stdout",
     "output_type": "stream",
     "text": [
      "{'Mumbai': 'Rohit', 'Banglore': 'Virat', 'Chennai': 'Dhoni', 'Delhi': 'Shreyash'}\n"
     ]
    }
   ],
   "source": [
    "team_captains['Delhi']='Shreyash'\n",
    "print(team_captains)"
   ]
  },
  {
   "cell_type": "code",
   "execution_count": 29,
   "metadata": {},
   "outputs": [
    {
     "name": "stdout",
     "output_type": "stream",
     "text": [
      "{'A': 1, 'B': 2, 'C': 3, 'D': 4, 'E': 5}\n"
     ]
    }
   ],
   "source": [
    "D1={'A':1,'B':2,'C':3}\n",
    "D2={'D':4,'E':5}\n",
    "D1.update(D2)\n",
    "print(D1)"
   ]
  },
  {
   "cell_type": "code",
   "execution_count": null,
   "metadata": {},
   "outputs": [],
   "source": []
  }
 ],
 "metadata": {
  "kernelspec": {
   "display_name": "Python 3",
   "language": "python",
   "name": "python3"
  },
  "language_info": {
   "codemirror_mode": {
    "name": "ipython",
    "version": 3
   },
   "file_extension": ".py",
   "mimetype": "text/x-python",
   "name": "python",
   "nbconvert_exporter": "python",
   "pygments_lexer": "ipython3",
   "version": "3.8.5"
  }
 },
 "nbformat": 4,
 "nbformat_minor": 4
}
